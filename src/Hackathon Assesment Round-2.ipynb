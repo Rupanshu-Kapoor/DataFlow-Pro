{
 "cells": [
  {
   "cell_type": "code",
   "execution_count": 1,
   "id": "2c8fe84c-799d-48f5-bdb8-1ce891f4d291",
   "metadata": {},
   "outputs": [],
   "source": [
    "# ! pip install striprtf -q"
   ]
  },
  {
   "cell_type": "code",
   "execution_count": 1,
   "id": "8172e355-f159-4903-abcb-46d2ae3e9d39",
   "metadata": {},
   "outputs": [],
   "source": [
    "import pandas as pd\n",
    "import json\n",
    "from striprtf.striprtf import rtf_to_text\n",
    "\n",
    "from sklearn.model_selection import train_test_split, GridSearchCV\n",
    "from sklearn.ensemble import RandomForestClassifier, RandomForestRegressor\n",
    "from sklearn.linear_model import LinearRegression, LogisticRegression, Ridge, Lasso, ElasticNet\n",
    "from sklearn.tree import DecisionTreeClassifier, DecisionTreeRegressor\n",
    "from sklearn.svm import SVC\n",
    "from sklearn.neighbors import KNeighborsClassifier\n",
    "from sklearn.neural_network import MLPClassifier\n",
    "from sklearn.metrics import confusion_matrix, classification_report, mean_squared_error, r2_score\n"
   ]
  },
  {
   "cell_type": "code",
   "execution_count": 2,
   "id": "8f9e9a8a-6b3e-423b-ac9c-e29a6a3c98a7",
   "metadata": {},
   "outputs": [],
   "source": [
    "file_path = \"algoparams_from_ui1.json.rtf\""
   ]
  },
  {
   "cell_type": "code",
   "execution_count": 3,
   "id": "b108aa90-8bdc-4e44-aeab-840b0b1c2156",
   "metadata": {},
   "outputs": [],
   "source": [
    "def rtf_parser(rtf_file_path, encoding='utf-8'):\n",
    "    from striprtf.striprtf import rtf_to_text\n",
    "    with open(rtf_file_path, 'r', encoding=encoding) as rtf_file:\n",
    "        plain_text = rtf_to_text(rtf_file.read())\n",
    "    return plain_text"
   ]
  },
  {
   "cell_type": "code",
   "execution_count": 4,
   "id": "cf5db1e5-5976-4337-9740-9f4cce35899c",
   "metadata": {},
   "outputs": [],
   "source": [
    "def rtf_to_json_parser(rtf_file_path):\n",
    "    import json\n",
    "    plain_text = rtf_parser(rtf_file_path)\n",
    "    json_data = json.loads(plain_text)\n",
    "    return json_data"
   ]
  },
  {
   "cell_type": "code",
   "execution_count": 15,
   "id": "9cd45edb-4c04-460b-9bd8-6bfe84ea50aa",
   "metadata": {},
   "outputs": [],
   "source": [
    "def get_selected_features_and_details(json_data):\n",
    "    selected_features  = []\n",
    "    feature_details = {}\n",
    "    feature_handling = json_data[\"design_state_data\"][\"feature_handling\"]\n",
    "    for feature, details in feature_handling.items():\n",
    "        if(details[\"is_selected\"]):\n",
    "            name = details[\"feature_name\"]\n",
    "            selected_features.append(name)\n",
    "            feature_details[name] = details\n",
    "    selected_features.remove(target_variable)\n",
    "    return selected_features, feature_details"
   ]
  },
  {
   "cell_type": "code",
   "execution_count": 13,
   "id": "ea38675d-30cc-49dc-a933-da502f6fbc41",
   "metadata": {},
   "outputs": [],
   "source": [
    "def get_split_dataset(json_data):\n",
    "    design_state = json_data[\"design_state_data\"]\n",
    "    dataset = design_state[\"session_info\"][\"dataset\"]\n",
    "    target_variable = design_state[\"target\"][\"target\"]\n",
    "    \n",
    "    train_info = design_state[\"train\"]\n",
    "    train_ratio = train_info[\"train_ratio\"]\n",
    "    random_seed = train_info[\"random_seed\"]\n",
    "\n",
    "    selected_features, _ = get_selected_features_and_details(json_data)\n",
    "\n",
    "    df = pd.read_csv(dataset)\n",
    "    X = df[selected_features]\n",
    "    Y = df[target_variable]"
   ]
  },
  {
   "cell_type": "code",
   "execution_count": 16,
   "id": "b57f6438-bea6-42c7-87b7-a66c57db9ca3",
   "metadata": {},
   "outputs": [],
   "source": [
    "def get_problem_type_and_target_variable(json_data):\n",
    "    design_state = json_data[\"design_state_data\"]\n",
    "    problem_type  = design_state[\"target\"][\"prediction_type\"]\n",
    "    target_variable = design_state[\"target\"][\"target\"]\n",
    "    return problem_type,target_variable"
   ]
  },
  {
   "cell_type": "code",
   "execution_count": 5,
   "id": "861aba50-d8db-48d3-a92e-790a06593b34",
   "metadata": {},
   "outputs": [],
   "source": [
    "json_data = rtf_to_json_parser(file_path)"
   ]
  },
  {
   "cell_type": "code",
   "execution_count": 6,
   "id": "a0d92223-c3b1-47fb-935b-21f8a89b198e",
   "metadata": {},
   "outputs": [],
   "source": [
    "design_state = json_data[\"design_state_data\"]\n",
    "dataset = design_state[\"session_info\"][\"dataset\"]\n",
    "problem_type  = design_state[\"target\"][\"prediction_type\"]\n",
    "\n",
    "df = pd.read_csv(dataset)"
   ]
  },
  {
   "cell_type": "code",
   "execution_count": 7,
   "id": "564474ad-5c4f-494e-bd53-56bedf83413f",
   "metadata": {},
   "outputs": [],
   "source": [
    "# get feature names and feature preprocessing\n",
    "feature_handling = json_data[\"design_state_data\"][\"feature_handling\"]\n",
    "selected_features  = []\n",
    "feature_details = {}\n",
    "for feature, details in feature_handling.items():\n",
    "    if(details[\"is_selected\"]):\n",
    "        name = details[\"feature_name\"]\n",
    "        selected_features.append(name)\n",
    "        feature_details[name] = details\n",
    "selected_features.remove(target_variable)"
   ]
  },
  {
   "cell_type": "code",
   "execution_count": 8,
   "id": "cc0013e0-807b-4b64-bf98-664f7a62567a",
   "metadata": {},
   "outputs": [],
   "source": []
  },
  {
   "cell_type": "code",
   "execution_count": 9,
   "id": "a84f99c4-3f91-4cd0-a670-d8ce57dcc219",
   "metadata": {},
   "outputs": [],
   "source": []
  },
  {
   "cell_type": "code",
   "execution_count": 10,
   "id": "1f1aa7be-8ef7-4759-b33f-95b9af819d55",
   "metadata": {},
   "outputs": [],
   "source": [
    "X_train, X_val, Y_train, Y_val = train_test_split(X, Y, train_size=train_ratio, random_state=random_seed)"
   ]
  },
  {
   "cell_type": "code",
   "execution_count": 11,
   "id": "c4358d70-9411-4e62-9852-73ab9808b397",
   "metadata": {
    "scrolled": true
   },
   "outputs": [
    {
     "name": "stdout",
     "output_type": "stream",
     "text": [
      "RandomForestClassifier\n",
      "{'model_name': 'Random Forest Classifier', 'is_selected': True, 'min_trees': 10, 'max_trees': 30, 'feature_sampling_statergy': 'Default', 'min_depth': 20, 'max_depth': 30, 'min_samples_per_leaf_min_value': 5, 'min_samples_per_leaf_max_value': 50, 'parallelism': 0}\n",
      "------------>\n",
      "DecisionTreeClassifier\n",
      "{'model_name': 'Decision Tree', 'is_selected': True, 'min_depth': 4, 'max_depth': 7, 'use_gini': False, 'use_entropy': True, 'min_samples_per_leaf': [12, 6], 'use_best': True, 'use_random': False}\n",
      "------------>\n"
     ]
    }
   ],
   "source": [
    "algorithms = design_state[\"algorithms\"]\n",
    "\n",
    "for algo, details in algorithms.items():\n",
    "    if details[\"is_selected\"]:\n",
    "        \n",
    "        print(algo)\n",
    "        print(details)\n",
    "        print(\"------------>\")"
   ]
  },
  {
   "cell_type": "code",
   "execution_count": 12,
   "id": "f9303a48-4867-496b-963d-1df9b57b5452",
   "metadata": {},
   "outputs": [],
   "source": [
    "model_selection = {\n",
    "    \"RandomForestClassifier\" : RandomForestClassifier(random_state=random_seed),\n",
    "    \"RandomForestRegressor\" : RandomForestRegressor(random_state=random_seed),\n",
    "    \"LinearRegression\": LinearRegression(),\n",
    "    \"LogisticRegression\": LogisticRegression(random_state=random_seed),\n",
    "    \"RidgeRegression\": Ridge(),\n",
    "    \"LassoRegression\": Lasso(),\n",
    "    \"ElasticNetRegression\": ElasticNet(),\n",
    "    \"xg_boost\": \"ds\",\n",
    "    \"DecisionTreeRegressor\": DecisionTreeRegressor(random_state=random_seed),\n",
    "    \"DecisionTreeClassifier\":DecisionTreeClassifier(random_state=random_seed),\n",
    "    \"SVM\": SVC(random_state=random_seed),\n",
    "    \"KNN\": KNeighborsClassifier(),\n",
    "    \"neural_network\": MLPClassifier(random_state=random_seed)    \n",
    "}"
   ]
  },
  {
   "cell_type": "code",
   "execution_count": 114,
   "id": "e7be5f78-e8f9-4db7-ad4f-b06f959c9787",
   "metadata": {},
   "outputs": [],
   "source": []
  },
  {
   "cell_type": "code",
   "execution_count": null,
   "id": "4c538b52-6372-4d76-bcf9-254903a8683b",
   "metadata": {},
   "outputs": [],
   "source": []
  },
  {
   "cell_type": "code",
   "execution_count": null,
   "id": "e6fdae43-14f2-47a0-83ac-dcd5411b81a0",
   "metadata": {},
   "outputs": [],
   "source": []
  },
  {
   "cell_type": "code",
   "execution_count": null,
   "id": "f7ed0348-8ef2-4465-8cdb-dee946d79e61",
   "metadata": {},
   "outputs": [],
   "source": []
  },
  {
   "cell_type": "code",
   "execution_count": null,
   "id": "3d0493f9-457b-4a3c-ab66-f5a9ed5f9e4a",
   "metadata": {},
   "outputs": [],
   "source": []
  },
  {
   "cell_type": "code",
   "execution_count": 30,
   "id": "888c0ef5-4c75-4812-91de-8730b9e60ff3",
   "metadata": {},
   "outputs": [
    {
     "name": "stdout",
     "output_type": "stream",
     "text": [
      "Processed (hashed) species data:\n",
      " [[0. 1. 0.]\n",
      " [0. 1. 0.]\n",
      " [0. 1. 0.]\n",
      " [0. 1. 0.]\n",
      " [0. 1. 0.]\n",
      " [0. 1. 0.]]\n"
     ]
    }
   ],
   "source": [
    "from sklearn.feature_extraction.text import HashingVectorizer\n",
    "import numpy as np\n",
    "\n",
    "# Sample dataset\n",
    "species_data = ['Iris-setosa', 'Iris-setosa', 'Iris-setosa', 'Iris-versicolor', 'Iris-versicolor', 'Iris-versicolor']\n",
    "\n",
    "# Create a HashingVectorizer with a default hash space size (e.g., 1024)\n",
    "hashing_vectorizer = HashingVectorizer(n_features=3, alternate_sign=False)\n",
    "\n",
    "# Convert the species data to hashed values\n",
    "hashed_species = hashing_vectorizer.transform(species_data)\n",
    "\n",
    "# Convert the sparse matrix to a dense matrix for easier handling (optional)\n",
    "hashed_species_dense = hashed_species.toarray()\n",
    "\n",
    "# Output the processed data\n",
    "print(\"Processed (hashed) species data:\\n\", hashed_species_dense)\n"
   ]
  },
  {
   "cell_type": "code",
   "execution_count": 29,
   "id": "4ee07314-b002-4bb5-ae94-b849bd660f24",
   "metadata": {},
   "outputs": [
    {
     "data": {
      "text/plain": [
       "array([[0.70710678, 0.70710678],\n",
       "       [0.70710678, 0.70710678],\n",
       "       [0.70710678, 0.70710678],\n",
       "       [0.70710678, 0.70710678],\n",
       "       [0.70710678, 0.70710678],\n",
       "       [0.70710678, 0.70710678]])"
      ]
     },
     "execution_count": 29,
     "metadata": {},
     "output_type": "execute_result"
    }
   ],
   "source": [
    "hashed_species.toarray()"
   ]
  },
  {
   "cell_type": "code",
   "execution_count": null,
   "id": "d78e83ef-af97-4365-a81a-2a7b6f40eb8e",
   "metadata": {},
   "outputs": [],
   "source": []
  },
  {
   "cell_type": "code",
   "execution_count": null,
   "id": "76904431-9baa-4c15-af38-e2eed1b055e0",
   "metadata": {},
   "outputs": [],
   "source": []
  },
  {
   "cell_type": "code",
   "execution_count": null,
   "id": "bc1942de-fd13-4025-8e20-296d9682401f",
   "metadata": {},
   "outputs": [],
   "source": []
  },
  {
   "cell_type": "code",
   "execution_count": null,
   "id": "2fd22151-555e-475c-b939-57044524aad1",
   "metadata": {},
   "outputs": [],
   "source": []
  },
  {
   "cell_type": "code",
   "execution_count": null,
   "id": "42103192-b8a6-42c9-8c6e-f1239d980485",
   "metadata": {},
   "outputs": [],
   "source": []
  },
  {
   "cell_type": "code",
   "execution_count": null,
   "id": "fde9ce1b-6c43-462a-adf3-6d2a76b9f4a9",
   "metadata": {},
   "outputs": [],
   "source": []
  },
  {
   "cell_type": "code",
   "execution_count": null,
   "id": "0333a1eb-541c-4382-823d-663e38e3e0a4",
   "metadata": {},
   "outputs": [],
   "source": []
  },
  {
   "cell_type": "code",
   "execution_count": null,
   "id": "6e91ed4d-a9d9-4ef4-af35-94cd99dd5193",
   "metadata": {},
   "outputs": [],
   "source": [
    "# Extract hyperparameters from the JSON data\n",
    "param_grid = {}\n",
    "for param, value in hyperparameters.items():\n",
    "    if isinstance(value, list):\n",
    "        param_grid[param] = value\n",
    "    else:\n",
    "        param_grid[param] = [value]\n",
    "\n",
    "# Step 6: Perform hyperparameter tuning using GridSearchCV\n",
    "grid_search = GridSearchCV(model, param_grid, cv=5, scoring='accuracy' if problem_type == 'Classification' else 'neg_mean_squared_error')\n",
    "grid_search.fit(X_train, Y_train)\n",
    "\n",
    "# Get the best model\n",
    "best_model = grid_search.best_estimator_\n",
    "\n",
    "# Step 7: Evaluate the model based on the type of problem\n",
    "if problem_type == 'Classification':\n",
    "    # Evaluate using confusion matrix and classification report\n",
    "    Y_pred = best_model.predict(X_val)\n",
    "    conf_matrix = confusion_matrix(Y_val, Y_pred)\n",
    "    class_report = classification_report(Y_val, Y_pred)\n",
    "    print(\"Confusion Matrix:\\n\", conf_matrix)\n",
    "    print(\"\\nClassification Report:\\n\", class_report)\n",
    "else:  # Regression\n",
    "    # Evaluate using R-squared, adjusted R-squared, and RMSE\n",
    "    Y_pred = best_model.predict(X_val)\n",
    "    mse = mean_squared_error(Y_val, Y_pred)\n",
    "    rmse = np.sqrt(mse)\n",
    "    r_squared = r2_score(Y_val, Y_pred)\n",
    "    n = len(Y_val)\n",
    "    p = X_val.shape[1]\n",
    "    adj_r_squared = 1 - (1 - r_squared) * (n - 1) / (n - p - 1)\n",
    "    \n",
    "    print(\"R-squared:\", r_squared)\n",
    "    print(\"Adjusted R-squared:\", adj_r_squared)\n",
    "    print(\"Root Mean Squared Error (RMSE):\", rmse)"
   ]
  }
 ],
 "metadata": {
  "kernelspec": {
   "display_name": "Python 3 (ipykernel)",
   "language": "python",
   "name": "python3"
  },
  "language_info": {
   "codemirror_mode": {
    "name": "ipython",
    "version": 3
   },
   "file_extension": ".py",
   "mimetype": "text/x-python",
   "name": "python",
   "nbconvert_exporter": "python",
   "pygments_lexer": "ipython3",
   "version": "3.11.7"
  }
 },
 "nbformat": 4,
 "nbformat_minor": 5
}
